{
  "nbformat": 4,
  "nbformat_minor": 0,
  "metadata": {
    "colab": {
      "name": "tripletloss_model_gray.ipynb",
      "provenance": [],
      "machine_shape": "hm",
      "authorship_tag": "ABX9TyNl5rAyRSRBmouK6I9hVz1D",
      "include_colab_link": true
    },
    "kernelspec": {
      "name": "python3",
      "display_name": "Python 3"
    }
  },
  "cells": [
    {
      "cell_type": "markdown",
      "metadata": {
        "id": "view-in-github",
        "colab_type": "text"
      },
      "source": [
        "<a href=\"https://colab.research.google.com/github/dmcg89/tripletloss/blob/master/tripletloss_model_gray.ipynb\" target=\"_parent\"><img src=\"https://colab.research.google.com/assets/colab-badge.svg\" alt=\"Open In Colab\"/></a>"
      ]
    },
    {
      "cell_type": "code",
      "metadata": {
        "id": "mlpl2LirQXO8",
        "colab_type": "code",
        "colab": {
          "base_uri": "https://localhost:8080/",
          "height": 122
        },
        "outputId": "20bee1ee-dae0-4981-fbd4-f3c8ffac53a1"
      },
      "source": [
        "from google.colab import drive\n",
        "drive.mount('/content/gdrive')"
      ],
      "execution_count": 2,
      "outputs": [
        {
          "output_type": "stream",
          "text": [
            "Go to this URL in a browser: https://accounts.google.com/o/oauth2/auth?client_id=947318989803-6bn6qk8qdgf4n4g3pfee6491hc0brc4i.apps.googleusercontent.com&redirect_uri=urn%3aietf%3awg%3aoauth%3a2.0%3aoob&response_type=code&scope=email%20https%3a%2f%2fwww.googleapis.com%2fauth%2fdocs.test%20https%3a%2f%2fwww.googleapis.com%2fauth%2fdrive%20https%3a%2f%2fwww.googleapis.com%2fauth%2fdrive.photos.readonly%20https%3a%2f%2fwww.googleapis.com%2fauth%2fpeopleapi.readonly\n",
            "\n",
            "Enter your authorization code:\n",
            "··········\n",
            "Mounted at /content/gdrive\n"
          ],
          "name": "stdout"
        }
      ]
    },
    {
      "cell_type": "code",
      "metadata": {
        "id": "04InSip3QgZV",
        "colab_type": "code",
        "colab": {}
      },
      "source": [
        "import sys,os\n",
        "root_path = 'gdrive/My Drive/Colab Notebooks/tripletloss/'\n",
        "sys.path.append(root_path)"
      ],
      "execution_count": 0,
      "outputs": []
    },
    {
      "cell_type": "code",
      "metadata": {
        "id": "BZgNYx1dQraC",
        "colab_type": "code",
        "colab": {
          "base_uri": "https://localhost:8080/",
          "height": 80
        },
        "outputId": "0aaa32b9-367a-41dd-ad93-78cf50ca6bef"
      },
      "source": [
        "from preprocessing1 import PreProcessing\n",
        "from keras.layers import Input, Conv2D, Lambda, Dense, Flatten,MaxPooling2D, concatenate\n",
        "from keras.models import Model, Sequential\n",
        "from keras.regularizers import l2\n",
        "from keras import backend as K\n",
        "from keras.optimizers import SGD,Adam\n",
        "from keras.losses import binary_crossentropy\n",
        "from keras.callbacks import ModelCheckpoint\n",
        "\n",
        "\n"
      ],
      "execution_count": 4,
      "outputs": [
        {
          "output_type": "stream",
          "text": [
            "Using TensorFlow backend.\n"
          ],
          "name": "stderr"
        },
        {
          "output_type": "display_data",
          "data": {
            "text/html": [
              "<p style=\"color: red;\">\n",
              "The default version of TensorFlow in Colab will switch to TensorFlow 2.x on the 27th of March, 2020.<br>\n",
              "We recommend you <a href=\"https://www.tensorflow.org/guide/migrate\" target=\"_blank\">upgrade</a> now\n",
              "or ensure your notebook will continue to use TensorFlow 1.x via the <code>%tensorflow_version 1.x</code> magic:\n",
              "<a href=\"https://colab.research.google.com/notebooks/tensorflow_version.ipynb\" target=\"_blank\">more info</a>.</p>\n"
            ],
            "text/plain": [
              "<IPython.core.display.HTML object>"
            ]
          },
          "metadata": {
            "tags": []
          }
        }
      ]
    },
    {
      "cell_type": "code",
      "metadata": {
        "id": "F45XbVZxQxLk",
        "colab_type": "code",
        "colab": {
          "base_uri": "https://localhost:8080/",
          "height": 1000
        },
        "outputId": "a43aef5e-d538-4142-db94-8e2813859e22"
      },
      "source": [
        "dataset = PreProcessing(root_path + 'ExtendedYaleB/', 'negative')"
      ],
      "execution_count": 5,
      "outputs": [
        {
          "output_type": "stream",
          "text": [
            "yaleB36\n",
            "Failed to read images from Directory:  yaleB36\n",
            "Exception Message:  cannot identify image file 'gdrive/My Drive/Colab Notebooks/tripletloss/ExtendedYaleB/yaleB36/yaleB36_P01.info'\n",
            "yaleB12\n",
            "Failed to read images from Directory:  yaleB12\n",
            "Exception Message:  cannot identify image file 'gdrive/My Drive/Colab Notebooks/tripletloss/ExtendedYaleB/yaleB12/yaleB12_P07.info'\n",
            "yaleB23\n",
            "Failed to read images from Directory:  yaleB23\n",
            "Exception Message:  cannot identify image file 'gdrive/My Drive/Colab Notebooks/tripletloss/ExtendedYaleB/yaleB23/yaleB23_P05.info'\n",
            "yaleB24\n",
            "Failed to read images from Directory:  yaleB24\n",
            "Exception Message:  cannot identify image file 'gdrive/My Drive/Colab Notebooks/tripletloss/ExtendedYaleB/yaleB24/yaleB24_P02.info'\n",
            "yaleB38\n",
            "Failed to read images from Directory:  yaleB38\n",
            "Exception Message:  cannot identify image file 'gdrive/My Drive/Colab Notebooks/tripletloss/ExtendedYaleB/yaleB38/yaleB38_P03.info'\n",
            "yaleB25\n",
            "Failed to read images from Directory:  yaleB25\n",
            "Exception Message:  cannot identify image file 'gdrive/My Drive/Colab Notebooks/tripletloss/ExtendedYaleB/yaleB25/yaleB25_P02.info'\n",
            "yaleB31\n",
            "Failed to read images from Directory:  yaleB31\n",
            "Exception Message:  cannot identify image file 'gdrive/My Drive/Colab Notebooks/tripletloss/ExtendedYaleB/yaleB31/yaleB31_P06.info'\n",
            "yaleB22\n",
            "Failed to read images from Directory:  yaleB22\n",
            "Exception Message:  cannot identify image file 'gdrive/My Drive/Colab Notebooks/tripletloss/ExtendedYaleB/yaleB22/yaleB22_P05.info'\n",
            "yaleB13\n",
            "Failed to read images from Directory:  yaleB13\n",
            "Exception Message:  cannot identify image file 'gdrive/My Drive/Colab Notebooks/tripletloss/ExtendedYaleB/yaleB13/yaleB13_P07.info'\n",
            "yaleB15\n",
            "Failed to read images from Directory:  yaleB15\n",
            "Exception Message:  cannot identify image file 'gdrive/My Drive/Colab Notebooks/tripletloss/ExtendedYaleB/yaleB15/yaleB15_P00.info'\n",
            "yaleB16\n",
            "Failed to read images from Directory:  yaleB16\n",
            "Exception Message:  cannot identify image file 'gdrive/My Drive/Colab Notebooks/tripletloss/ExtendedYaleB/yaleB16/yaleB16_P05.info'\n",
            "yaleB39\n",
            "Failed to read images from Directory:  yaleB39\n",
            "Exception Message:  cannot identify image file 'gdrive/My Drive/Colab Notebooks/tripletloss/ExtendedYaleB/yaleB39/yaleB39_P03.info'\n",
            "yaleB11\n",
            "Failed to read images from Directory:  yaleB11\n",
            "Exception Message:  cannot identify image file 'gdrive/My Drive/Colab Notebooks/tripletloss/ExtendedYaleB/yaleB11/yaleB11_P02.info'\n",
            "yaleB27\n",
            "Failed to read images from Directory:  yaleB27\n",
            "Exception Message:  cannot identify image file 'gdrive/My Drive/Colab Notebooks/tripletloss/ExtendedYaleB/yaleB27/yaleB27_P07.info'\n",
            "yaleB37\n",
            "Failed to read images from Directory:  yaleB37\n",
            "Exception Message:  cannot identify image file 'gdrive/My Drive/Colab Notebooks/tripletloss/ExtendedYaleB/yaleB37/yaleB37_P01.info'\n",
            "yaleB19\n",
            "Failed to read images from Directory:  yaleB19\n",
            "Exception Message:  cannot identify image file 'gdrive/My Drive/Colab Notebooks/tripletloss/ExtendedYaleB/yaleB19/yaleB19_P07.info'\n",
            "yaleB29\n",
            "Failed to read images from Directory:  yaleB29\n",
            "Exception Message:  cannot identify image file 'gdrive/My Drive/Colab Notebooks/tripletloss/ExtendedYaleB/yaleB29/yaleB29_P05.info'\n",
            "yaleB18\n",
            "Failed to read images from Directory:  yaleB18\n",
            "Exception Message:  cannot identify image file 'gdrive/My Drive/Colab Notebooks/tripletloss/ExtendedYaleB/yaleB18/yaleB18_P07.info'\n",
            "yaleB30\n",
            "Failed to read images from Directory:  yaleB30\n",
            "Exception Message:  cannot identify image file 'gdrive/My Drive/Colab Notebooks/tripletloss/ExtendedYaleB/yaleB30/yaleB30_P06.info'\n",
            "yaleB20\n",
            "Failed to read images from Directory:  yaleB20\n",
            "Exception Message:  cannot identify image file 'gdrive/My Drive/Colab Notebooks/tripletloss/ExtendedYaleB/yaleB20/yaleB20_P00.info'\n",
            "yaleB32\n",
            "Failed to read images from Directory:  yaleB32\n",
            "Exception Message:  cannot identify image file 'gdrive/My Drive/Colab Notebooks/tripletloss/ExtendedYaleB/yaleB32/yaleB32_P03.info'\n",
            "yaleB34\n",
            "Failed to read images from Directory:  yaleB34\n",
            "Exception Message:  cannot identify image file 'gdrive/My Drive/Colab Notebooks/tripletloss/ExtendedYaleB/yaleB34/yaleB34_P04.info'\n",
            "yaleB26\n",
            "Failed to read images from Directory:  yaleB26\n",
            "Exception Message:  cannot identify image file 'gdrive/My Drive/Colab Notebooks/tripletloss/ExtendedYaleB/yaleB26/yaleB26_P07.info'\n",
            "yaleB33\n",
            "Failed to read images from Directory:  yaleB33\n",
            "Exception Message:  cannot identify image file 'gdrive/My Drive/Colab Notebooks/tripletloss/ExtendedYaleB/yaleB33/yaleB33_P03.info'\n",
            "yaleB17\n",
            "Failed to read images from Directory:  yaleB17\n",
            "Exception Message:  cannot identify image file 'gdrive/My Drive/Colab Notebooks/tripletloss/ExtendedYaleB/yaleB17/yaleB17_P05.info'\n",
            "yaleB35\n",
            "Failed to read images from Directory:  yaleB35\n",
            "Exception Message:  cannot identify image file 'gdrive/My Drive/Colab Notebooks/tripletloss/ExtendedYaleB/yaleB35/yaleB35_P04.info'\n",
            "yaleB21\n",
            "Failed to read images from Directory:  yaleB21\n",
            "Exception Message:  cannot identify image file 'gdrive/My Drive/Colab Notebooks/tripletloss/ExtendedYaleB/yaleB21/yaleB21_P00.info'\n",
            "yaleB28\n",
            "Failed to read images from Directory:  yaleB28\n",
            "Exception Message:  cannot identify image file 'gdrive/My Drive/Colab Notebooks/tripletloss/ExtendedYaleB/yaleB28/yaleB28_P05.info'\n",
            ".DS_Store\n",
            "Failed to read images from Directory:  .DS_Store\n",
            "Exception Message:  [Errno 20] Not a directory: 'gdrive/My Drive/Colab Notebooks/tripletloss/ExtendedYaleB/.DS_Store'\n",
            "Dataset loaded successfully.\n",
            "Preprocessing Done. Summary:\n",
            "Images train : (922, 480, 640)\n",
            "Labels train : (922,)\n",
            "Images test  : (0,)\n",
            "Labels test  : (0,)\n",
            "Unique label : [ 0  1  2  3  4  5  6  7  8  9 10 11 12 13 14 15 16 17 18 19 20 21 22 23\n",
            " 24 25 26 27]\n"
          ],
          "name": "stdout"
        }
      ]
    },
    {
      "cell_type": "code",
      "metadata": {
        "id": "bS11CzqaAhhc",
        "colab_type": "code",
        "colab": {}
      },
      "source": [
        "anchors = []\n",
        "positives = []\n",
        "negatives = []\n",
        "n = 1000\n",
        "\n",
        "for _ in range(n):\n",
        "    triplet = dataset.generate_triplets()\n",
        "    anchors.append(triplet[0])\n",
        "    positives.append(triplet[1])\n",
        "    negatives.append(triplet[2])"
      ],
      "execution_count": 0,
      "outputs": []
    },
    {
      "cell_type": "code",
      "metadata": {
        "id": "qTakV0RFBi8u",
        "colab_type": "code",
        "colab": {
          "base_uri": "https://localhost:8080/",
          "height": 51
        },
        "outputId": "181ca97c-890c-4d8a-f489-1905ad193a69"
      },
      "source": [
        "import numpy as np\n",
        "def train_test_split(arr, p=.9):\n",
        "    test = []\n",
        "    train = []\n",
        "    for i in range(len(arr)):\n",
        "        if i < len(arr)*.9: train.append(arr[i])\n",
        "        else: test.append(arr[i])\n",
        "    return np.array(train), np.array(test)\n",
        "#     return train, test\n",
        "\n",
        "anchor_train, anchor_test = train_test_split(anchors)\n",
        "print((anchor_train[1].shape))\n",
        "print((anchor_train[3].shape))\n",
        "positive_train, positive_test = train_test_split(positives)\n",
        "negative_train, negative_test = train_test_split(negatives)"
      ],
      "execution_count": 7,
      "outputs": [
        {
          "output_type": "stream",
          "text": [
            "(480, 640)\n",
            "(480, 640)\n"
          ],
          "name": "stdout"
        }
      ]
    },
    {
      "cell_type": "code",
      "metadata": {
        "id": "dAV5mTlPBkjQ",
        "colab_type": "code",
        "colab": {}
      },
      "source": [
        "def triplet_loss(y_true, y_pred, alpha = 0.4):\n",
        "    \"\"\"\n",
        "    Implementation of the triplet loss function\n",
        "    Arguments:\n",
        "    y_true -- true labels, required when you define a loss in Keras, you don't need it in this function.\n",
        "    y_pred -- python list containing three objects:\n",
        "            anchor -- the encodings for the anchor data\n",
        "            positive -- the encodings for the positive data (similar to anchor)\n",
        "            negative -- the encodings for the negative data (different from anchor)\n",
        "    Returns:\n",
        "    loss -- real number, value of the loss\n",
        "    \"\"\"\n",
        "    print('y_pred.shape = ',y_pred)\n",
        "    \n",
        "    total_lenght = y_pred.shape.as_list()[-1]\n",
        "#     print('total_lenght=',  total_lenght)\n",
        "#     total_lenght =12\n",
        "    \n",
        "    anchor = y_pred[:,0:int(total_lenght*1/3)]\n",
        "    positive = y_pred[:,int(total_lenght*1/3):int(total_lenght*2/3)]\n",
        "    negative = y_pred[:,int(total_lenght*2/3):int(total_lenght*3/3)]\n",
        "\n",
        "    # distance between the anchor and the positive\n",
        "    pos_dist = K.sum(K.square(anchor-positive),axis=1)\n",
        "\n",
        "    # distance between the anchor and the negative\n",
        "    neg_dist = K.sum(K.square(anchor-negative),axis=1)\n",
        "\n",
        "    # compute loss\n",
        "    basic_loss = pos_dist-neg_dist+alpha\n",
        "    loss = K.maximum(basic_loss,0.0)\n",
        " \n",
        "    return loss"
      ],
      "execution_count": 0,
      "outputs": []
    },
    {
      "cell_type": "code",
      "metadata": {
        "id": "pYmRJ5N9BrHU",
        "colab_type": "code",
        "colab": {}
      },
      "source": [
        "from keras.layers import Input, Conv2D, Lambda, Dense, Flatten,MaxPooling2D, concatenate\n",
        "from keras.models import Model, Sequential\n",
        "from keras.regularizers import l2\n",
        "from keras import backend as K\n",
        "from keras.optimizers import SGD,Adam\n",
        "from keras.losses import binary_crossentropy\n",
        "import os\n",
        "from keras.callbacks import ModelCheckpoint\n",
        "# os.environ['KMP_DUPLICATE_LIB_OK']='True'\n",
        "\n",
        "def create_base_network(in_dims):\n",
        "    \"\"\"\n",
        "    Base network to be shared.\n",
        "    \"\"\"\n",
        "    model = Sequential()\n",
        "    model.add(Conv2D(128,(7,7),padding='same',input_shape=(in_dims[0],in_dims[1],in_dims[2],),activation='relu',name='conv1'))\n",
        "    model.add(MaxPooling2D((2,2),(2,2),padding='same',name='pool1'))\n",
        "    model.add(Conv2D(256,(5,5),padding='same',activation='relu',name='conv2'))\n",
        "    model.add(MaxPooling2D((2,2),(2,2),padding='same',name='pool2'))\n",
        "    model.add(Flatten(name='flatten'))\n",
        "    model.add(Dense(4,name='embeddings'))\n",
        "    # model.add(Dense(600))\n",
        "    \n",
        "    return model"
      ],
      "execution_count": 0,
      "outputs": []
    },
    {
      "cell_type": "code",
      "metadata": {
        "id": "IGzolEAoB0dm",
        "colab_type": "code",
        "colab": {}
      },
      "source": [
        "adam_optim = Adam(lr=0.0001, beta_1=0.9, beta_2=0.999)"
      ],
      "execution_count": 0,
      "outputs": []
    },
    {
      "cell_type": "code",
      "metadata": {
        "id": "pCukT1T_B23k",
        "colab_type": "code",
        "colab": {
          "base_uri": "https://localhost:8080/",
          "height": 224
        },
        "outputId": "bbd4ff56-667a-4045-8e0f-705a45912f96"
      },
      "source": [
        "anchor_input = Input((480, 640, 1), name='anchor_input')\n",
        "positive_input = Input((480, 640, 1), name='positive_input')\n",
        "negative_input = Input((480, 640, 1), name='negative_input')\n",
        "\n",
        "# Shared embedding layer for positive and negative items\n",
        "Shared_DNN = create_base_network([480, 640, 1])\n",
        "\n",
        "\n",
        "encoded_anchor = Shared_DNN(anchor_input)\n",
        "encoded_positive = Shared_DNN(positive_input)\n",
        "encoded_negative = Shared_DNN(negative_input)\n",
        "\n",
        "\n",
        "merged_vector = concatenate([encoded_anchor, encoded_positive, encoded_negative], axis=-1, name='merged_layer')\n",
        "\n",
        "model = Model(inputs=[anchor_input,positive_input, negative_input], outputs=merged_vector)\n",
        "model.compile(loss=triplet_loss, optimizer=adam_optim)"
      ],
      "execution_count": 11,
      "outputs": [
        {
          "output_type": "stream",
          "text": [
            "WARNING:tensorflow:From /usr/local/lib/python3.6/dist-packages/keras/backend/tensorflow_backend.py:541: The name tf.placeholder is deprecated. Please use tf.compat.v1.placeholder instead.\n",
            "\n",
            "WARNING:tensorflow:From /usr/local/lib/python3.6/dist-packages/keras/backend/tensorflow_backend.py:66: The name tf.get_default_graph is deprecated. Please use tf.compat.v1.get_default_graph instead.\n",
            "\n",
            "WARNING:tensorflow:From /usr/local/lib/python3.6/dist-packages/keras/backend/tensorflow_backend.py:4432: The name tf.random_uniform is deprecated. Please use tf.random.uniform instead.\n",
            "\n",
            "WARNING:tensorflow:From /usr/local/lib/python3.6/dist-packages/keras/backend/tensorflow_backend.py:4267: The name tf.nn.max_pool is deprecated. Please use tf.nn.max_pool2d instead.\n",
            "\n",
            "WARNING:tensorflow:From /usr/local/lib/python3.6/dist-packages/keras/optimizers.py:793: The name tf.train.Optimizer is deprecated. Please use tf.compat.v1.train.Optimizer instead.\n",
            "\n",
            "y_pred.shape =  Tensor(\"merged_layer/concat:0\", shape=(?, 12), dtype=float32)\n"
          ],
          "name": "stdout"
        }
      ]
    },
    {
      "cell_type": "code",
      "metadata": {
        "id": "Dz3HAMW3B56V",
        "colab_type": "code",
        "colab": {
          "base_uri": "https://localhost:8080/",
          "height": 391
        },
        "outputId": "81c9f626-a716-4aa8-b81b-05ae3217a9e3"
      },
      "source": [
        "model.summary()"
      ],
      "execution_count": 12,
      "outputs": [
        {
          "output_type": "stream",
          "text": [
            "Model: \"model_1\"\n",
            "__________________________________________________________________________________________________\n",
            "Layer (type)                    Output Shape         Param #     Connected to                     \n",
            "==================================================================================================\n",
            "anchor_input (InputLayer)       (None, 480, 640, 1)  0                                            \n",
            "__________________________________________________________________________________________________\n",
            "positive_input (InputLayer)     (None, 480, 640, 1)  0                                            \n",
            "__________________________________________________________________________________________________\n",
            "negative_input (InputLayer)     (None, 480, 640, 1)  0                                            \n",
            "__________________________________________________________________________________________________\n",
            "sequential_1 (Sequential)       (None, 4)            20486660    anchor_input[0][0]               \n",
            "                                                                 positive_input[0][0]             \n",
            "                                                                 negative_input[0][0]             \n",
            "__________________________________________________________________________________________________\n",
            "merged_layer (Concatenate)      (None, 12)           0           sequential_1[1][0]               \n",
            "                                                                 sequential_1[2][0]               \n",
            "                                                                 sequential_1[3][0]               \n",
            "==================================================================================================\n",
            "Total params: 20,486,660\n",
            "Trainable params: 20,486,660\n",
            "Non-trainable params: 0\n",
            "__________________________________________________________________________________________________\n"
          ],
          "name": "stdout"
        }
      ]
    },
    {
      "cell_type": "code",
      "metadata": {
        "id": "-cysbYYxB8wV",
        "colab_type": "code",
        "colab": {}
      },
      "source": [
        "import numpy as np\n",
        "# RGB Images\n",
        "# Anchor_train = anchor_train.reshape(-1,368,368,3)\n",
        "# Positive_train = positive_train.reshape(-1,368,368,3)\n",
        "# Negative_train = negative_train.reshape(-1,368,368,3)\n",
        "# Anchor_test = anchor_test.reshape(-1,368,368,3)\n",
        "# Positive_test = positive_test.reshape(-1,368,368,3)\n",
        "# Negative_test = negative_test.reshape(-1,368,368,3)\n",
        "# (480, 640, 1)\n",
        "# Greyscale Images\n",
        "Anchor_train = anchor_train.reshape(-1,480, 640, 1)\n",
        "Positive_train = positive_train.reshape(-1,480, 640, 1)\n",
        "Negative_train = negative_train.reshape(-1,480, 640, 1)\n",
        "Anchor_test = anchor_test.reshape(-1,480, 640, 1)\n",
        "Positive_test = positive_test.reshape(-1,480, 640, 1)\n",
        "Negative_test = negative_test.reshape(-1,480, 640, 1)"
      ],
      "execution_count": 0,
      "outputs": []
    },
    {
      "cell_type": "code",
      "metadata": {
        "id": "XwZvjn_zCBCA",
        "colab_type": "code",
        "colab": {
          "base_uri": "https://localhost:8080/",
          "height": 615
        },
        "outputId": "e848a9d9-7a0a-46d5-b171-133ece23094a"
      },
      "source": [
        "import numpy as np\n",
        "Y_dummy = np.empty((Anchor_train.shape[0],12))\n",
        "Y_dummy2 = np.empty((Anchor_test.shape[0],12))\n",
        "\n",
        "n_batch = 10\n",
        "\n",
        "checkpointer = ModelCheckpoint(filepath=root_path + \"weights.hdf5\", verbose=1, save_best_only=True)\n",
        "# checkpointer = ModelCheckpoint(filepath=\"/tmp/weights.hdf5\", verbose=1)\n",
        "model.fit([Anchor_train,Positive_train,Negative_train],y=Y_dummy,validation_data=([Anchor_test,Positive_test,Negative_test],Y_dummy2),callbacks=[checkpointer], epochs=10, batch_size=n_batch)"
      ],
      "execution_count": 0,
      "outputs": [
        {
          "output_type": "stream",
          "text": [
            "WARNING:tensorflow:From /tensorflow-1.15.0/python3.6/tensorflow_core/python/ops/math_grad.py:1424: where (from tensorflow.python.ops.array_ops) is deprecated and will be removed in a future version.\n",
            "Instructions for updating:\n",
            "Use tf.where in 2.0, which has the same broadcast rule as np.where\n",
            "WARNING:tensorflow:From /usr/local/lib/python3.6/dist-packages/keras/backend/tensorflow_backend.py:1033: The name tf.assign_add is deprecated. Please use tf.compat.v1.assign_add instead.\n",
            "\n",
            "WARNING:tensorflow:From /usr/local/lib/python3.6/dist-packages/keras/backend/tensorflow_backend.py:1020: The name tf.assign is deprecated. Please use tf.compat.v1.assign instead.\n",
            "\n",
            "WARNING:tensorflow:From /usr/local/lib/python3.6/dist-packages/keras/backend/tensorflow_backend.py:3005: The name tf.Session is deprecated. Please use tf.compat.v1.Session instead.\n",
            "\n",
            "Train on 900 samples, validate on 100 samples\n",
            "Epoch 1/10\n",
            "WARNING:tensorflow:From /usr/local/lib/python3.6/dist-packages/keras/backend/tensorflow_backend.py:190: The name tf.get_default_session is deprecated. Please use tf.compat.v1.get_default_session instead.\n",
            "\n",
            "WARNING:tensorflow:From /usr/local/lib/python3.6/dist-packages/keras/backend/tensorflow_backend.py:197: The name tf.ConfigProto is deprecated. Please use tf.compat.v1.ConfigProto instead.\n",
            "\n",
            "WARNING:tensorflow:From /usr/local/lib/python3.6/dist-packages/keras/backend/tensorflow_backend.py:207: The name tf.global_variables is deprecated. Please use tf.compat.v1.global_variables instead.\n",
            "\n",
            "WARNING:tensorflow:From /usr/local/lib/python3.6/dist-packages/keras/backend/tensorflow_backend.py:216: The name tf.is_variable_initialized is deprecated. Please use tf.compat.v1.is_variable_initialized instead.\n",
            "\n",
            "WARNING:tensorflow:From /usr/local/lib/python3.6/dist-packages/keras/backend/tensorflow_backend.py:223: The name tf.variables_initializer is deprecated. Please use tf.compat.v1.variables_initializer instead.\n",
            "\n",
            "900/900 [==============================] - 10021s 11s/step - loss: 0.0494 - val_loss: 0.0705\n",
            "\n",
            "Epoch 00001: val_loss improved from inf to 0.07053, saving model to gdrive/My Drive/Colab Notebooks/tripletloss/weights.hdf5\n",
            "Epoch 2/10\n",
            "900/900 [==============================] - 9983s 11s/step - loss: 0.0118 - val_loss: 0.0263\n",
            "\n",
            "Epoch 00002: val_loss improved from 0.07053 to 0.02625, saving model to gdrive/My Drive/Colab Notebooks/tripletloss/weights.hdf5\n",
            "Epoch 3/10\n",
            "900/900 [==============================] - 9993s 11s/step - loss: 9.1996e-04 - val_loss: 0.0369\n",
            "\n",
            "Epoch 00003: val_loss did not improve from 0.02625\n",
            "Epoch 4/10\n",
            " 10/900 [..............................] - ETA: 2:39:19 - loss: 0.0000e+00"
          ],
          "name": "stdout"
        }
      ]
    },
    {
      "cell_type": "code",
      "metadata": {
        "id": "UUR73QtOCMlk",
        "colab_type": "code",
        "colab": {}
      },
      "source": [
        "trained_model = Model(inputs=anchor_input, outputs=encoded_anchor)"
      ],
      "execution_count": 0,
      "outputs": []
    },
    {
      "cell_type": "code",
      "metadata": {
        "id": "VYGyadVscfW5",
        "colab_type": "code",
        "colab": {
          "base_uri": "https://localhost:8080/",
          "height": 241
        },
        "outputId": "5e666e7e-c5c4-4761-96bd-ab91964fee1f"
      },
      "source": [
        "trained_model.load_weights(root_path + \"weights.hdf5\")"
      ],
      "execution_count": 15,
      "outputs": [
        {
          "output_type": "stream",
          "text": [
            "WARNING:tensorflow:From /usr/local/lib/python3.6/dist-packages/keras/backend/tensorflow_backend.py:190: The name tf.get_default_session is deprecated. Please use tf.compat.v1.get_default_session instead.\n",
            "\n",
            "WARNING:tensorflow:From /usr/local/lib/python3.6/dist-packages/keras/backend/tensorflow_backend.py:197: The name tf.ConfigProto is deprecated. Please use tf.compat.v1.ConfigProto instead.\n",
            "\n",
            "WARNING:tensorflow:From /usr/local/lib/python3.6/dist-packages/keras/backend/tensorflow_backend.py:203: The name tf.Session is deprecated. Please use tf.compat.v1.Session instead.\n",
            "\n",
            "WARNING:tensorflow:From /usr/local/lib/python3.6/dist-packages/keras/backend/tensorflow_backend.py:207: The name tf.global_variables is deprecated. Please use tf.compat.v1.global_variables instead.\n",
            "\n",
            "WARNING:tensorflow:From /usr/local/lib/python3.6/dist-packages/keras/backend/tensorflow_backend.py:216: The name tf.is_variable_initialized is deprecated. Please use tf.compat.v1.is_variable_initialized instead.\n",
            "\n",
            "WARNING:tensorflow:From /usr/local/lib/python3.6/dist-packages/keras/backend/tensorflow_backend.py:223: The name tf.variables_initializer is deprecated. Please use tf.compat.v1.variables_initializer instead.\n",
            "\n"
          ],
          "name": "stdout"
        }
      ]
    },
    {
      "cell_type": "code",
      "metadata": {
        "id": "q0guSNxqgr39",
        "colab_type": "code",
        "colab": {}
      },
      "source": [
        "X_train_trm = trained_model.predict(dataset.images_train.reshape(-1,480, 640, 1))"
      ],
      "execution_count": 0,
      "outputs": []
    },
    {
      "cell_type": "code",
      "metadata": {
        "id": "VDkVVqFSgxNx",
        "colab_type": "code",
        "colab": {
          "base_uri": "https://localhost:8080/",
          "height": 34
        },
        "outputId": "8aa086a8-954e-427e-faed-a6d423d224f1"
      },
      "source": [
        "len(X_train_trm)"
      ],
      "execution_count": 17,
      "outputs": [
        {
          "output_type": "execute_result",
          "data": {
            "text/plain": [
              "922"
            ]
          },
          "metadata": {
            "tags": []
          },
          "execution_count": 17
        }
      ]
    },
    {
      "cell_type": "code",
      "metadata": {
        "id": "QHQtq9Z9lWp2",
        "colab_type": "code",
        "colab": {}
      },
      "source": [
        "X_train_trm_new = X_train_trm[:850]\n",
        "X_test_trm = X_train_trm[850:922]"
      ],
      "execution_count": 0,
      "outputs": []
    },
    {
      "cell_type": "code",
      "metadata": {
        "id": "doH64qovljFz",
        "colab_type": "code",
        "colab": {
          "base_uri": "https://localhost:8080/",
          "height": 51
        },
        "outputId": "ed289779-4a87-46e5-efcc-58ac3c0a0e75"
      },
      "source": [
        "y_train_onehot = np.zeros((dataset.labels_train.size, dataset.labels_train.max()+1))\n",
        "y_train_onehot[np.arange(dataset.labels_train.size),dataset.labels_train] = 1\n",
        "\n",
        "print(len(y_train_onehot))\n",
        "y_train_onehot_new = y_train_onehot[:850]\n",
        "y_test_onehot = y_train_onehot[850:922]\n",
        "\n",
        "dataset.labels_test\n",
        "# y_test_onehot = np.zeros((dataset.labels_test.size, dataset.labels_test.max()+1))\n",
        "# y_test_onehot[np.arange(dataset.labels_test.size),dataset.labels_test] = 1\n",
        "# dataset.labels_test.max()\n",
        "print(len(y_test_onehot))"
      ],
      "execution_count": 20,
      "outputs": [
        {
          "output_type": "stream",
          "text": [
            "922\n",
            "72\n"
          ],
          "name": "stdout"
        }
      ]
    },
    {
      "cell_type": "code",
      "metadata": {
        "id": "IJu9Ge0JlgkH",
        "colab_type": "code",
        "colab": {}
      },
      "source": [
        "Classifier_input = Input((4,))\n",
        "Classifier_output = Dense(28, activation='softmax')(Classifier_input)\n",
        "Classifier_model = Model(Classifier_input, Classifier_output)\n",
        "\n",
        "Classifier_model.compile(optimizer='adam',loss='categorical_crossentropy',metrics=['accuracy'])\n"
      ],
      "execution_count": 0,
      "outputs": []
    },
    {
      "cell_type": "code",
      "metadata": {
        "id": "eGnMCobsltzp",
        "colab_type": "code",
        "colab": {
          "base_uri": "https://localhost:8080/",
          "height": 1000
        },
        "outputId": "f0942b01-dfac-42ec-dbbf-a29dbee57759"
      },
      "source": [
        "Classifier_model.fit(X_train_trm_new,y_train_onehot_new, validation_data=(X_test_trm,y_test_onehot),epochs=200)"
      ],
      "execution_count": 25,
      "outputs": [
        {
          "output_type": "stream",
          "text": [
            "WARNING:tensorflow:From /tensorflow-1.15.0/python3.6/tensorflow_core/python/ops/math_grad.py:1424: where (from tensorflow.python.ops.array_ops) is deprecated and will be removed in a future version.\n",
            "Instructions for updating:\n",
            "Use tf.where in 2.0, which has the same broadcast rule as np.where\n",
            "WARNING:tensorflow:From /usr/local/lib/python3.6/dist-packages/keras/backend/tensorflow_backend.py:1033: The name tf.assign_add is deprecated. Please use tf.compat.v1.assign_add instead.\n",
            "\n",
            "WARNING:tensorflow:From /usr/local/lib/python3.6/dist-packages/keras/backend/tensorflow_backend.py:1020: The name tf.assign is deprecated. Please use tf.compat.v1.assign instead.\n",
            "\n",
            "Train on 850 samples, validate on 72 samples\n",
            "Epoch 1/200\n",
            "850/850 [==============================] - 0s 459us/step - loss: 3.7452 - acc: 0.0000e+00 - val_loss: 3.8151 - val_acc: 0.0000e+00\n",
            "Epoch 2/200\n",
            "850/850 [==============================] - 0s 38us/step - loss: 3.5610 - acc: 0.0000e+00 - val_loss: 3.6400 - val_acc: 0.0000e+00\n",
            "Epoch 3/200\n",
            "850/850 [==============================] - 0s 39us/step - loss: 3.3961 - acc: 0.0094 - val_loss: 3.4814 - val_acc: 0.0556\n",
            "Epoch 4/200\n",
            "850/850 [==============================] - 0s 38us/step - loss: 3.2471 - acc: 0.0600 - val_loss: 3.3378 - val_acc: 0.1111\n",
            "Epoch 5/200\n",
            "850/850 [==============================] - 0s 37us/step - loss: 3.1140 - acc: 0.1259 - val_loss: 3.2018 - val_acc: 0.1667\n",
            "Epoch 6/200\n",
            "850/850 [==============================] - 0s 38us/step - loss: 2.9935 - acc: 0.1941 - val_loss: 3.0800 - val_acc: 0.2083\n",
            "Epoch 7/200\n",
            "850/850 [==============================] - 0s 36us/step - loss: 2.8838 - acc: 0.2529 - val_loss: 2.9650 - val_acc: 0.2639\n",
            "Epoch 8/200\n",
            "850/850 [==============================] - 0s 39us/step - loss: 2.7836 - acc: 0.2659 - val_loss: 2.8600 - val_acc: 0.2917\n",
            "Epoch 9/200\n",
            "850/850 [==============================] - 0s 42us/step - loss: 2.6916 - acc: 0.2859 - val_loss: 2.7623 - val_acc: 0.2917\n",
            "Epoch 10/200\n",
            "850/850 [==============================] - 0s 40us/step - loss: 2.6063 - acc: 0.2918 - val_loss: 2.6684 - val_acc: 0.2917\n",
            "Epoch 11/200\n",
            "850/850 [==============================] - 0s 39us/step - loss: 2.5280 - acc: 0.2918 - val_loss: 2.5821 - val_acc: 0.2917\n",
            "Epoch 12/200\n",
            "850/850 [==============================] - 0s 43us/step - loss: 2.4553 - acc: 0.2941 - val_loss: 2.5001 - val_acc: 0.2917\n",
            "Epoch 13/200\n",
            "850/850 [==============================] - 0s 38us/step - loss: 2.3863 - acc: 0.2988 - val_loss: 2.4259 - val_acc: 0.2917\n",
            "Epoch 14/200\n",
            "850/850 [==============================] - 0s 38us/step - loss: 2.3231 - acc: 0.3035 - val_loss: 2.3503 - val_acc: 0.3056\n",
            "Epoch 15/200\n",
            "850/850 [==============================] - 0s 37us/step - loss: 2.2629 - acc: 0.3129 - val_loss: 2.2830 - val_acc: 0.3194\n",
            "Epoch 16/200\n",
            "850/850 [==============================] - 0s 40us/step - loss: 2.2067 - acc: 0.3435 - val_loss: 2.2188 - val_acc: 0.3611\n",
            "Epoch 17/200\n",
            "850/850 [==============================] - 0s 38us/step - loss: 2.1538 - acc: 0.3635 - val_loss: 2.1569 - val_acc: 0.4444\n",
            "Epoch 18/200\n",
            "850/850 [==============================] - 0s 42us/step - loss: 2.1036 - acc: 0.4047 - val_loss: 2.1012 - val_acc: 0.4722\n",
            "Epoch 19/200\n",
            "850/850 [==============================] - 0s 37us/step - loss: 2.0572 - acc: 0.4482 - val_loss: 2.0487 - val_acc: 0.5417\n",
            "Epoch 20/200\n",
            "850/850 [==============================] - 0s 37us/step - loss: 2.0126 - acc: 0.4659 - val_loss: 1.9965 - val_acc: 0.5972\n",
            "Epoch 21/200\n",
            "850/850 [==============================] - 0s 45us/step - loss: 1.9711 - acc: 0.4941 - val_loss: 1.9474 - val_acc: 0.6250\n",
            "Epoch 22/200\n",
            "850/850 [==============================] - 0s 38us/step - loss: 1.9305 - acc: 0.5106 - val_loss: 1.9023 - val_acc: 0.6389\n",
            "Epoch 23/200\n",
            "850/850 [==============================] - 0s 39us/step - loss: 1.8937 - acc: 0.5282 - val_loss: 1.8620 - val_acc: 0.6528\n",
            "Epoch 24/200\n",
            "850/850 [==============================] - 0s 40us/step - loss: 1.8579 - acc: 0.5282 - val_loss: 1.8200 - val_acc: 0.6528\n",
            "Epoch 25/200\n",
            "850/850 [==============================] - 0s 36us/step - loss: 1.8239 - acc: 0.5400 - val_loss: 1.7836 - val_acc: 0.6528\n",
            "Epoch 26/200\n",
            "850/850 [==============================] - 0s 39us/step - loss: 1.7923 - acc: 0.5482 - val_loss: 1.7458 - val_acc: 0.6528\n",
            "Epoch 27/200\n",
            "850/850 [==============================] - 0s 40us/step - loss: 1.7610 - acc: 0.5529 - val_loss: 1.7111 - val_acc: 0.6528\n",
            "Epoch 28/200\n",
            "850/850 [==============================] - 0s 39us/step - loss: 1.7316 - acc: 0.5671 - val_loss: 1.6782 - val_acc: 0.6667\n",
            "Epoch 29/200\n",
            "850/850 [==============================] - 0s 42us/step - loss: 1.7031 - acc: 0.5741 - val_loss: 1.6486 - val_acc: 0.6667\n",
            "Epoch 30/200\n",
            "850/850 [==============================] - 0s 40us/step - loss: 1.6760 - acc: 0.5788 - val_loss: 1.6184 - val_acc: 0.6667\n",
            "Epoch 31/200\n",
            "850/850 [==============================] - 0s 39us/step - loss: 1.6506 - acc: 0.5859 - val_loss: 1.5911 - val_acc: 0.6667\n",
            "Epoch 32/200\n",
            "850/850 [==============================] - 0s 40us/step - loss: 1.6256 - acc: 0.6047 - val_loss: 1.5642 - val_acc: 0.6944\n",
            "Epoch 33/200\n",
            "850/850 [==============================] - 0s 37us/step - loss: 1.6015 - acc: 0.6059 - val_loss: 1.5390 - val_acc: 0.6944\n",
            "Epoch 34/200\n",
            "850/850 [==============================] - 0s 39us/step - loss: 1.5786 - acc: 0.6047 - val_loss: 1.5132 - val_acc: 0.6944\n",
            "Epoch 35/200\n",
            "850/850 [==============================] - 0s 40us/step - loss: 1.5561 - acc: 0.6188 - val_loss: 1.4878 - val_acc: 0.6944\n",
            "Epoch 36/200\n",
            "850/850 [==============================] - 0s 38us/step - loss: 1.5347 - acc: 0.6365 - val_loss: 1.4676 - val_acc: 0.6944\n",
            "Epoch 37/200\n",
            "850/850 [==============================] - 0s 38us/step - loss: 1.5133 - acc: 0.6376 - val_loss: 1.4448 - val_acc: 0.6944\n",
            "Epoch 38/200\n",
            "850/850 [==============================] - 0s 40us/step - loss: 1.4936 - acc: 0.6400 - val_loss: 1.4231 - val_acc: 0.6944\n",
            "Epoch 39/200\n",
            "850/850 [==============================] - 0s 43us/step - loss: 1.4734 - acc: 0.6506 - val_loss: 1.4027 - val_acc: 0.6944\n",
            "Epoch 40/200\n",
            "850/850 [==============================] - 0s 38us/step - loss: 1.4550 - acc: 0.6800 - val_loss: 1.3849 - val_acc: 0.6944\n",
            "Epoch 41/200\n",
            "850/850 [==============================] - 0s 40us/step - loss: 1.4367 - acc: 0.6906 - val_loss: 1.3643 - val_acc: 0.6944\n",
            "Epoch 42/200\n",
            "850/850 [==============================] - 0s 38us/step - loss: 1.4191 - acc: 0.7000 - val_loss: 1.3491 - val_acc: 0.7083\n",
            "Epoch 43/200\n",
            "850/850 [==============================] - 0s 36us/step - loss: 1.4015 - acc: 0.7059 - val_loss: 1.3296 - val_acc: 0.7083\n",
            "Epoch 44/200\n",
            "850/850 [==============================] - 0s 39us/step - loss: 1.3855 - acc: 0.7176 - val_loss: 1.3130 - val_acc: 0.7083\n",
            "Epoch 45/200\n",
            "850/850 [==============================] - 0s 40us/step - loss: 1.3687 - acc: 0.7176 - val_loss: 1.2959 - val_acc: 0.7083\n",
            "Epoch 46/200\n",
            "850/850 [==============================] - 0s 40us/step - loss: 1.3530 - acc: 0.7200 - val_loss: 1.2792 - val_acc: 0.7083\n",
            "Epoch 47/200\n",
            "850/850 [==============================] - 0s 40us/step - loss: 1.3372 - acc: 0.7365 - val_loss: 1.2627 - val_acc: 0.7083\n",
            "Epoch 48/200\n",
            "850/850 [==============================] - 0s 37us/step - loss: 1.3228 - acc: 0.7471 - val_loss: 1.2491 - val_acc: 0.7222\n",
            "Epoch 49/200\n",
            "850/850 [==============================] - 0s 37us/step - loss: 1.3081 - acc: 0.7471 - val_loss: 1.2345 - val_acc: 0.7361\n",
            "Epoch 50/200\n",
            "850/850 [==============================] - 0s 42us/step - loss: 1.2938 - acc: 0.7541 - val_loss: 1.2192 - val_acc: 0.7639\n",
            "Epoch 51/200\n",
            "850/850 [==============================] - 0s 35us/step - loss: 1.2800 - acc: 0.7612 - val_loss: 1.2072 - val_acc: 0.7639\n",
            "Epoch 52/200\n",
            "850/850 [==============================] - 0s 41us/step - loss: 1.2663 - acc: 0.7659 - val_loss: 1.1924 - val_acc: 0.7639\n",
            "Epoch 53/200\n",
            "850/850 [==============================] - 0s 38us/step - loss: 1.2533 - acc: 0.7765 - val_loss: 1.1784 - val_acc: 0.7778\n",
            "Epoch 54/200\n",
            "850/850 [==============================] - 0s 36us/step - loss: 1.2400 - acc: 0.7882 - val_loss: 1.1655 - val_acc: 0.7917\n",
            "Epoch 55/200\n",
            "850/850 [==============================] - 0s 38us/step - loss: 1.2276 - acc: 0.7882 - val_loss: 1.1540 - val_acc: 0.7917\n",
            "Epoch 56/200\n",
            "850/850 [==============================] - 0s 37us/step - loss: 1.2160 - acc: 0.7953 - val_loss: 1.1396 - val_acc: 0.8056\n",
            "Epoch 57/200\n",
            "850/850 [==============================] - 0s 40us/step - loss: 1.2036 - acc: 0.8012 - val_loss: 1.1295 - val_acc: 0.8056\n",
            "Epoch 58/200\n",
            "850/850 [==============================] - 0s 40us/step - loss: 1.1920 - acc: 0.8000 - val_loss: 1.1183 - val_acc: 0.8333\n",
            "Epoch 59/200\n",
            "850/850 [==============================] - 0s 38us/step - loss: 1.1805 - acc: 0.8047 - val_loss: 1.1084 - val_acc: 0.8472\n",
            "Epoch 60/200\n",
            "850/850 [==============================] - 0s 39us/step - loss: 1.1692 - acc: 0.8094 - val_loss: 1.0961 - val_acc: 0.8472\n",
            "Epoch 61/200\n",
            "850/850 [==============================] - 0s 37us/step - loss: 1.1578 - acc: 0.8094 - val_loss: 1.0837 - val_acc: 0.8472\n",
            "Epoch 62/200\n",
            "850/850 [==============================] - 0s 41us/step - loss: 1.1470 - acc: 0.8082 - val_loss: 1.0738 - val_acc: 0.8472\n",
            "Epoch 63/200\n",
            "850/850 [==============================] - 0s 37us/step - loss: 1.1363 - acc: 0.8153 - val_loss: 1.0632 - val_acc: 0.8472\n",
            "Epoch 64/200\n",
            "850/850 [==============================] - 0s 38us/step - loss: 1.1260 - acc: 0.8165 - val_loss: 1.0524 - val_acc: 0.8472\n",
            "Epoch 65/200\n",
            "850/850 [==============================] - 0s 43us/step - loss: 1.1158 - acc: 0.8165 - val_loss: 1.0427 - val_acc: 0.8611\n",
            "Epoch 66/200\n",
            "850/850 [==============================] - 0s 36us/step - loss: 1.1060 - acc: 0.8176 - val_loss: 1.0332 - val_acc: 0.8611\n",
            "Epoch 67/200\n",
            "850/850 [==============================] - 0s 36us/step - loss: 1.0963 - acc: 0.8247 - val_loss: 1.0249 - val_acc: 0.8611\n",
            "Epoch 68/200\n",
            "850/850 [==============================] - 0s 35us/step - loss: 1.0861 - acc: 0.8282 - val_loss: 1.0138 - val_acc: 0.8611\n",
            "Epoch 69/200\n",
            "850/850 [==============================] - 0s 37us/step - loss: 1.0769 - acc: 0.8294 - val_loss: 1.0055 - val_acc: 0.8611\n",
            "Epoch 70/200\n",
            "850/850 [==============================] - 0s 41us/step - loss: 1.0677 - acc: 0.8271 - val_loss: 0.9952 - val_acc: 0.8611\n",
            "Epoch 71/200\n",
            "850/850 [==============================] - 0s 38us/step - loss: 1.0587 - acc: 0.8271 - val_loss: 0.9877 - val_acc: 0.8611\n",
            "Epoch 72/200\n",
            "850/850 [==============================] - 0s 37us/step - loss: 1.0496 - acc: 0.8329 - val_loss: 0.9785 - val_acc: 0.8611\n",
            "Epoch 73/200\n",
            "850/850 [==============================] - 0s 39us/step - loss: 1.0404 - acc: 0.8365 - val_loss: 0.9705 - val_acc: 0.8611\n",
            "Epoch 74/200\n",
            "850/850 [==============================] - 0s 41us/step - loss: 1.0319 - acc: 0.8365 - val_loss: 0.9630 - val_acc: 0.8611\n",
            "Epoch 75/200\n",
            "850/850 [==============================] - 0s 36us/step - loss: 1.0239 - acc: 0.8376 - val_loss: 0.9552 - val_acc: 0.8611\n",
            "Epoch 76/200\n",
            "850/850 [==============================] - 0s 36us/step - loss: 1.0153 - acc: 0.8388 - val_loss: 0.9449 - val_acc: 0.8750\n",
            "Epoch 77/200\n",
            "850/850 [==============================] - 0s 47us/step - loss: 1.0070 - acc: 0.8388 - val_loss: 0.9395 - val_acc: 0.8889\n",
            "Epoch 78/200\n",
            "850/850 [==============================] - 0s 43us/step - loss: 0.9992 - acc: 0.8400 - val_loss: 0.9318 - val_acc: 0.8889\n",
            "Epoch 79/200\n",
            "850/850 [==============================] - 0s 39us/step - loss: 0.9913 - acc: 0.8435 - val_loss: 0.9239 - val_acc: 0.9028\n",
            "Epoch 80/200\n",
            "850/850 [==============================] - 0s 41us/step - loss: 0.9833 - acc: 0.8412 - val_loss: 0.9153 - val_acc: 0.8889\n",
            "Epoch 81/200\n",
            "850/850 [==============================] - 0s 39us/step - loss: 0.9763 - acc: 0.8376 - val_loss: 0.9069 - val_acc: 0.8889\n",
            "Epoch 82/200\n",
            "850/850 [==============================] - 0s 38us/step - loss: 0.9681 - acc: 0.8435 - val_loss: 0.9023 - val_acc: 0.9028\n",
            "Epoch 83/200\n",
            "850/850 [==============================] - 0s 37us/step - loss: 0.9606 - acc: 0.8447 - val_loss: 0.8948 - val_acc: 0.9028\n",
            "Epoch 84/200\n",
            "850/850 [==============================] - 0s 39us/step - loss: 0.9535 - acc: 0.8447 - val_loss: 0.8864 - val_acc: 0.9028\n",
            "Epoch 85/200\n",
            "850/850 [==============================] - 0s 40us/step - loss: 0.9464 - acc: 0.8424 - val_loss: 0.8787 - val_acc: 0.9028\n",
            "Epoch 86/200\n",
            "850/850 [==============================] - 0s 40us/step - loss: 0.9393 - acc: 0.8471 - val_loss: 0.8731 - val_acc: 0.9028\n",
            "Epoch 87/200\n",
            "850/850 [==============================] - 0s 40us/step - loss: 0.9326 - acc: 0.8471 - val_loss: 0.8658 - val_acc: 0.9028\n",
            "Epoch 88/200\n",
            "850/850 [==============================] - 0s 38us/step - loss: 0.9254 - acc: 0.8471 - val_loss: 0.8587 - val_acc: 0.9028\n",
            "Epoch 89/200\n",
            "850/850 [==============================] - 0s 40us/step - loss: 0.9188 - acc: 0.8471 - val_loss: 0.8534 - val_acc: 0.9028\n",
            "Epoch 90/200\n",
            "850/850 [==============================] - 0s 37us/step - loss: 0.9117 - acc: 0.8494 - val_loss: 0.8460 - val_acc: 0.9028\n",
            "Epoch 91/200\n",
            "850/850 [==============================] - 0s 38us/step - loss: 0.9054 - acc: 0.8494 - val_loss: 0.8388 - val_acc: 0.9028\n",
            "Epoch 92/200\n",
            "850/850 [==============================] - 0s 39us/step - loss: 0.8992 - acc: 0.8506 - val_loss: 0.8341 - val_acc: 0.9028\n",
            "Epoch 93/200\n",
            "850/850 [==============================] - 0s 37us/step - loss: 0.8926 - acc: 0.8506 - val_loss: 0.8276 - val_acc: 0.9028\n",
            "Epoch 94/200\n",
            "850/850 [==============================] - 0s 37us/step - loss: 0.8863 - acc: 0.8529 - val_loss: 0.8226 - val_acc: 0.9028\n",
            "Epoch 95/200\n",
            "850/850 [==============================] - 0s 38us/step - loss: 0.8805 - acc: 0.8529 - val_loss: 0.8177 - val_acc: 0.9028\n",
            "Epoch 96/200\n",
            "850/850 [==============================] - 0s 41us/step - loss: 0.8739 - acc: 0.8529 - val_loss: 0.8105 - val_acc: 0.9028\n",
            "Epoch 97/200\n",
            "850/850 [==============================] - 0s 36us/step - loss: 0.8684 - acc: 0.8529 - val_loss: 0.8041 - val_acc: 0.9028\n",
            "Epoch 98/200\n",
            "850/850 [==============================] - 0s 39us/step - loss: 0.8620 - acc: 0.8553 - val_loss: 0.7980 - val_acc: 0.9028\n",
            "Epoch 99/200\n",
            "850/850 [==============================] - 0s 41us/step - loss: 0.8564 - acc: 0.8553 - val_loss: 0.7924 - val_acc: 0.9028\n",
            "Epoch 100/200\n",
            "850/850 [==============================] - 0s 40us/step - loss: 0.8506 - acc: 0.8576 - val_loss: 0.7870 - val_acc: 0.9028\n",
            "Epoch 101/200\n",
            "850/850 [==============================] - 0s 38us/step - loss: 0.8452 - acc: 0.8576 - val_loss: 0.7813 - val_acc: 0.9028\n",
            "Epoch 102/200\n",
            "850/850 [==============================] - 0s 40us/step - loss: 0.8397 - acc: 0.8576 - val_loss: 0.7773 - val_acc: 0.9028\n",
            "Epoch 103/200\n",
            "850/850 [==============================] - 0s 36us/step - loss: 0.8339 - acc: 0.8588 - val_loss: 0.7703 - val_acc: 0.9028\n",
            "Epoch 104/200\n",
            "850/850 [==============================] - 0s 38us/step - loss: 0.8283 - acc: 0.8588 - val_loss: 0.7656 - val_acc: 0.9028\n",
            "Epoch 105/200\n",
            "850/850 [==============================] - 0s 35us/step - loss: 0.8236 - acc: 0.8600 - val_loss: 0.7619 - val_acc: 0.9028\n",
            "Epoch 106/200\n",
            "850/850 [==============================] - 0s 40us/step - loss: 0.8189 - acc: 0.8588 - val_loss: 0.7530 - val_acc: 0.9028\n",
            "Epoch 107/200\n",
            "850/850 [==============================] - 0s 39us/step - loss: 0.8124 - acc: 0.8600 - val_loss: 0.7500 - val_acc: 0.9028\n",
            "Epoch 108/200\n",
            "850/850 [==============================] - 0s 37us/step - loss: 0.8078 - acc: 0.8588 - val_loss: 0.7452 - val_acc: 0.9028\n",
            "Epoch 109/200\n",
            "850/850 [==============================] - 0s 46us/step - loss: 0.8025 - acc: 0.8612 - val_loss: 0.7421 - val_acc: 0.9028\n",
            "Epoch 110/200\n",
            "850/850 [==============================] - 0s 38us/step - loss: 0.7977 - acc: 0.8635 - val_loss: 0.7355 - val_acc: 0.9028\n",
            "Epoch 111/200\n",
            "850/850 [==============================] - 0s 35us/step - loss: 0.7924 - acc: 0.8647 - val_loss: 0.7304 - val_acc: 0.9028\n",
            "Epoch 112/200\n",
            "850/850 [==============================] - 0s 34us/step - loss: 0.7876 - acc: 0.8635 - val_loss: 0.7232 - val_acc: 0.9028\n",
            "Epoch 113/200\n",
            "850/850 [==============================] - 0s 37us/step - loss: 0.7835 - acc: 0.8647 - val_loss: 0.7178 - val_acc: 0.9028\n",
            "Epoch 114/200\n",
            "850/850 [==============================] - 0s 39us/step - loss: 0.7785 - acc: 0.8659 - val_loss: 0.7167 - val_acc: 0.9028\n",
            "Epoch 115/200\n",
            "850/850 [==============================] - 0s 40us/step - loss: 0.7738 - acc: 0.8671 - val_loss: 0.7123 - val_acc: 0.9028\n",
            "Epoch 116/200\n",
            "850/850 [==============================] - 0s 38us/step - loss: 0.7690 - acc: 0.8659 - val_loss: 0.7049 - val_acc: 0.9028\n",
            "Epoch 117/200\n",
            "850/850 [==============================] - 0s 38us/step - loss: 0.7648 - acc: 0.8647 - val_loss: 0.7015 - val_acc: 0.9028\n",
            "Epoch 118/200\n",
            "850/850 [==============================] - 0s 38us/step - loss: 0.7597 - acc: 0.8647 - val_loss: 0.6978 - val_acc: 0.9028\n",
            "Epoch 119/200\n",
            "850/850 [==============================] - 0s 39us/step - loss: 0.7555 - acc: 0.8682 - val_loss: 0.6929 - val_acc: 0.9028\n",
            "Epoch 120/200\n",
            "850/850 [==============================] - 0s 36us/step - loss: 0.7515 - acc: 0.8694 - val_loss: 0.6894 - val_acc: 0.9028\n",
            "Epoch 121/200\n",
            "850/850 [==============================] - 0s 40us/step - loss: 0.7467 - acc: 0.8671 - val_loss: 0.6840 - val_acc: 0.9028\n",
            "Epoch 122/200\n",
            "850/850 [==============================] - 0s 41us/step - loss: 0.7427 - acc: 0.8682 - val_loss: 0.6809 - val_acc: 0.9028\n",
            "Epoch 123/200\n",
            "850/850 [==============================] - 0s 39us/step - loss: 0.7386 - acc: 0.8682 - val_loss: 0.6747 - val_acc: 0.9028\n",
            "Epoch 124/200\n",
            "850/850 [==============================] - 0s 38us/step - loss: 0.7343 - acc: 0.8682 - val_loss: 0.6707 - val_acc: 0.9028\n",
            "Epoch 125/200\n",
            "850/850 [==============================] - 0s 39us/step - loss: 0.7306 - acc: 0.8682 - val_loss: 0.6692 - val_acc: 0.9028\n",
            "Epoch 126/200\n",
            "850/850 [==============================] - 0s 33us/step - loss: 0.7263 - acc: 0.8706 - val_loss: 0.6650 - val_acc: 0.9028\n",
            "Epoch 127/200\n",
            "850/850 [==============================] - 0s 35us/step - loss: 0.7224 - acc: 0.8718 - val_loss: 0.6612 - val_acc: 0.9028\n",
            "Epoch 128/200\n",
            "850/850 [==============================] - 0s 36us/step - loss: 0.7181 - acc: 0.8694 - val_loss: 0.6558 - val_acc: 0.9028\n",
            "Epoch 129/200\n",
            "850/850 [==============================] - 0s 35us/step - loss: 0.7146 - acc: 0.8694 - val_loss: 0.6531 - val_acc: 0.9028\n",
            "Epoch 130/200\n",
            "850/850 [==============================] - 0s 38us/step - loss: 0.7103 - acc: 0.8694 - val_loss: 0.6476 - val_acc: 0.9028\n",
            "Epoch 131/200\n",
            "850/850 [==============================] - 0s 36us/step - loss: 0.7066 - acc: 0.8741 - val_loss: 0.6446 - val_acc: 0.9028\n",
            "Epoch 132/200\n",
            "850/850 [==============================] - 0s 38us/step - loss: 0.7032 - acc: 0.8694 - val_loss: 0.6396 - val_acc: 0.9028\n",
            "Epoch 133/200\n",
            "850/850 [==============================] - 0s 44us/step - loss: 0.6993 - acc: 0.8706 - val_loss: 0.6370 - val_acc: 0.9028\n",
            "Epoch 134/200\n",
            "850/850 [==============================] - 0s 42us/step - loss: 0.6955 - acc: 0.8729 - val_loss: 0.6339 - val_acc: 0.9028\n",
            "Epoch 135/200\n",
            "850/850 [==============================] - 0s 39us/step - loss: 0.6920 - acc: 0.8729 - val_loss: 0.6293 - val_acc: 0.9028\n",
            "Epoch 136/200\n",
            "850/850 [==============================] - 0s 36us/step - loss: 0.6885 - acc: 0.8729 - val_loss: 0.6247 - val_acc: 0.9028\n",
            "Epoch 137/200\n",
            "850/850 [==============================] - 0s 37us/step - loss: 0.6848 - acc: 0.8706 - val_loss: 0.6220 - val_acc: 0.9028\n",
            "Epoch 138/200\n",
            "850/850 [==============================] - 0s 38us/step - loss: 0.6817 - acc: 0.8718 - val_loss: 0.6193 - val_acc: 0.9028\n",
            "Epoch 139/200\n",
            "850/850 [==============================] - 0s 37us/step - loss: 0.6781 - acc: 0.8741 - val_loss: 0.6155 - val_acc: 0.9028\n",
            "Epoch 140/200\n",
            "850/850 [==============================] - 0s 37us/step - loss: 0.6745 - acc: 0.8741 - val_loss: 0.6111 - val_acc: 0.9028\n",
            "Epoch 141/200\n",
            "850/850 [==============================] - 0s 37us/step - loss: 0.6711 - acc: 0.8765 - val_loss: 0.6084 - val_acc: 0.9028\n",
            "Epoch 142/200\n",
            "850/850 [==============================] - 0s 38us/step - loss: 0.6676 - acc: 0.8741 - val_loss: 0.6031 - val_acc: 0.9028\n",
            "Epoch 143/200\n",
            "850/850 [==============================] - 0s 38us/step - loss: 0.6643 - acc: 0.8765 - val_loss: 0.6009 - val_acc: 0.9028\n",
            "Epoch 144/200\n",
            "850/850 [==============================] - 0s 36us/step - loss: 0.6610 - acc: 0.8776 - val_loss: 0.5978 - val_acc: 0.9028\n",
            "Epoch 145/200\n",
            "850/850 [==============================] - 0s 44us/step - loss: 0.6577 - acc: 0.8765 - val_loss: 0.5937 - val_acc: 0.9028\n",
            "Epoch 146/200\n",
            "850/850 [==============================] - 0s 39us/step - loss: 0.6551 - acc: 0.8741 - val_loss: 0.5916 - val_acc: 0.9028\n",
            "Epoch 147/200\n",
            "850/850 [==============================] - 0s 37us/step - loss: 0.6517 - acc: 0.8788 - val_loss: 0.5872 - val_acc: 0.9028\n",
            "Epoch 148/200\n",
            "850/850 [==============================] - 0s 37us/step - loss: 0.6488 - acc: 0.8765 - val_loss: 0.5847 - val_acc: 0.9028\n",
            "Epoch 149/200\n",
            "850/850 [==============================] - 0s 36us/step - loss: 0.6456 - acc: 0.8776 - val_loss: 0.5806 - val_acc: 0.9028\n",
            "Epoch 150/200\n",
            "850/850 [==============================] - 0s 41us/step - loss: 0.6425 - acc: 0.8812 - val_loss: 0.5799 - val_acc: 0.9028\n",
            "Epoch 151/200\n",
            "850/850 [==============================] - 0s 40us/step - loss: 0.6394 - acc: 0.8788 - val_loss: 0.5768 - val_acc: 0.9028\n",
            "Epoch 152/200\n",
            "850/850 [==============================] - 0s 39us/step - loss: 0.6363 - acc: 0.8788 - val_loss: 0.5731 - val_acc: 0.9028\n",
            "Epoch 153/200\n",
            "850/850 [==============================] - 0s 41us/step - loss: 0.6332 - acc: 0.8788 - val_loss: 0.5691 - val_acc: 0.9028\n",
            "Epoch 154/200\n",
            "850/850 [==============================] - 0s 38us/step - loss: 0.6303 - acc: 0.8788 - val_loss: 0.5670 - val_acc: 0.9028\n",
            "Epoch 155/200\n",
            "850/850 [==============================] - 0s 38us/step - loss: 0.6274 - acc: 0.8800 - val_loss: 0.5640 - val_acc: 0.9028\n",
            "Epoch 156/200\n",
            "850/850 [==============================] - 0s 38us/step - loss: 0.6249 - acc: 0.8812 - val_loss: 0.5618 - val_acc: 0.9028\n",
            "Epoch 157/200\n",
            "850/850 [==============================] - 0s 38us/step - loss: 0.6218 - acc: 0.8812 - val_loss: 0.5578 - val_acc: 0.9028\n",
            "Epoch 158/200\n",
            "850/850 [==============================] - 0s 39us/step - loss: 0.6193 - acc: 0.8788 - val_loss: 0.5557 - val_acc: 0.9028\n",
            "Epoch 159/200\n",
            "850/850 [==============================] - 0s 37us/step - loss: 0.6164 - acc: 0.8824 - val_loss: 0.5506 - val_acc: 0.9028\n",
            "Epoch 160/200\n",
            "850/850 [==============================] - 0s 39us/step - loss: 0.6135 - acc: 0.8812 - val_loss: 0.5489 - val_acc: 0.9028\n",
            "Epoch 161/200\n",
            "850/850 [==============================] - 0s 37us/step - loss: 0.6108 - acc: 0.8824 - val_loss: 0.5461 - val_acc: 0.9028\n",
            "Epoch 162/200\n",
            "850/850 [==============================] - 0s 36us/step - loss: 0.6081 - acc: 0.8812 - val_loss: 0.5436 - val_acc: 0.9028\n",
            "Epoch 163/200\n",
            "850/850 [==============================] - 0s 38us/step - loss: 0.6054 - acc: 0.8800 - val_loss: 0.5398 - val_acc: 0.9028\n",
            "Epoch 164/200\n",
            "850/850 [==============================] - 0s 39us/step - loss: 0.6030 - acc: 0.8835 - val_loss: 0.5390 - val_acc: 0.9028\n",
            "Epoch 165/200\n",
            "850/850 [==============================] - 0s 39us/step - loss: 0.6003 - acc: 0.8835 - val_loss: 0.5356 - val_acc: 0.9028\n",
            "Epoch 166/200\n",
            "850/850 [==============================] - 0s 37us/step - loss: 0.5980 - acc: 0.8800 - val_loss: 0.5317 - val_acc: 0.9028\n",
            "Epoch 167/200\n",
            "850/850 [==============================] - 0s 36us/step - loss: 0.5947 - acc: 0.8824 - val_loss: 0.5307 - val_acc: 0.9028\n",
            "Epoch 168/200\n",
            "850/850 [==============================] - 0s 41us/step - loss: 0.5922 - acc: 0.8824 - val_loss: 0.5269 - val_acc: 0.9028\n",
            "Epoch 169/200\n",
            "850/850 [==============================] - 0s 41us/step - loss: 0.5897 - acc: 0.8824 - val_loss: 0.5254 - val_acc: 0.9028\n",
            "Epoch 170/200\n",
            "850/850 [==============================] - 0s 36us/step - loss: 0.5873 - acc: 0.8824 - val_loss: 0.5214 - val_acc: 0.9028\n",
            "Epoch 171/200\n",
            "850/850 [==============================] - 0s 36us/step - loss: 0.5852 - acc: 0.8812 - val_loss: 0.5208 - val_acc: 0.9028\n",
            "Epoch 172/200\n",
            "850/850 [==============================] - 0s 40us/step - loss: 0.5827 - acc: 0.8824 - val_loss: 0.5182 - val_acc: 0.9028\n",
            "Epoch 173/200\n",
            "850/850 [==============================] - 0s 37us/step - loss: 0.5799 - acc: 0.8824 - val_loss: 0.5145 - val_acc: 0.9028\n",
            "Epoch 174/200\n",
            "850/850 [==============================] - 0s 37us/step - loss: 0.5775 - acc: 0.8812 - val_loss: 0.5120 - val_acc: 0.9028\n",
            "Epoch 175/200\n",
            "850/850 [==============================] - 0s 34us/step - loss: 0.5752 - acc: 0.8824 - val_loss: 0.5095 - val_acc: 0.9028\n",
            "Epoch 176/200\n",
            "850/850 [==============================] - 0s 36us/step - loss: 0.5729 - acc: 0.8847 - val_loss: 0.5086 - val_acc: 0.9028\n",
            "Epoch 177/200\n",
            "850/850 [==============================] - 0s 36us/step - loss: 0.5707 - acc: 0.8847 - val_loss: 0.5074 - val_acc: 0.9028\n",
            "Epoch 178/200\n",
            "850/850 [==============================] - 0s 39us/step - loss: 0.5682 - acc: 0.8835 - val_loss: 0.5032 - val_acc: 0.9028\n",
            "Epoch 179/200\n",
            "850/850 [==============================] - 0s 34us/step - loss: 0.5660 - acc: 0.8835 - val_loss: 0.5001 - val_acc: 0.9028\n",
            "Epoch 180/200\n",
            "850/850 [==============================] - 0s 35us/step - loss: 0.5639 - acc: 0.8835 - val_loss: 0.4986 - val_acc: 0.9028\n",
            "Epoch 181/200\n",
            "850/850 [==============================] - 0s 37us/step - loss: 0.5613 - acc: 0.8835 - val_loss: 0.4948 - val_acc: 0.9028\n",
            "Epoch 182/200\n",
            "850/850 [==============================] - 0s 36us/step - loss: 0.5593 - acc: 0.8859 - val_loss: 0.4937 - val_acc: 0.9028\n",
            "Epoch 183/200\n",
            "850/850 [==============================] - 0s 40us/step - loss: 0.5569 - acc: 0.8859 - val_loss: 0.4896 - val_acc: 0.9028\n",
            "Epoch 184/200\n",
            "850/850 [==============================] - 0s 37us/step - loss: 0.5550 - acc: 0.8847 - val_loss: 0.4899 - val_acc: 0.9028\n",
            "Epoch 185/200\n",
            "850/850 [==============================] - 0s 38us/step - loss: 0.5530 - acc: 0.8835 - val_loss: 0.4865 - val_acc: 0.9028\n",
            "Epoch 186/200\n",
            "850/850 [==============================] - 0s 40us/step - loss: 0.5506 - acc: 0.8859 - val_loss: 0.4838 - val_acc: 0.9028\n",
            "Epoch 187/200\n",
            "850/850 [==============================] - 0s 38us/step - loss: 0.5486 - acc: 0.8859 - val_loss: 0.4820 - val_acc: 0.9028\n",
            "Epoch 188/200\n",
            "850/850 [==============================] - 0s 36us/step - loss: 0.5464 - acc: 0.8906 - val_loss: 0.4809 - val_acc: 0.9028\n",
            "Epoch 189/200\n",
            "850/850 [==============================] - 0s 40us/step - loss: 0.5442 - acc: 0.8882 - val_loss: 0.4792 - val_acc: 0.9028\n",
            "Epoch 190/200\n",
            "850/850 [==============================] - 0s 39us/step - loss: 0.5427 - acc: 0.8859 - val_loss: 0.4762 - val_acc: 0.9028\n",
            "Epoch 191/200\n",
            "850/850 [==============================] - 0s 39us/step - loss: 0.5404 - acc: 0.8882 - val_loss: 0.4742 - val_acc: 0.9028\n",
            "Epoch 192/200\n",
            "850/850 [==============================] - 0s 41us/step - loss: 0.5380 - acc: 0.8871 - val_loss: 0.4730 - val_acc: 0.9028\n",
            "Epoch 193/200\n",
            "850/850 [==============================] - 0s 42us/step - loss: 0.5359 - acc: 0.8906 - val_loss: 0.4697 - val_acc: 0.9028\n",
            "Epoch 194/200\n",
            "850/850 [==============================] - 0s 39us/step - loss: 0.5339 - acc: 0.8906 - val_loss: 0.4679 - val_acc: 0.9028\n",
            "Epoch 195/200\n",
            "850/850 [==============================] - 0s 38us/step - loss: 0.5320 - acc: 0.8894 - val_loss: 0.4650 - val_acc: 0.9028\n",
            "Epoch 196/200\n",
            "850/850 [==============================] - 0s 37us/step - loss: 0.5302 - acc: 0.8906 - val_loss: 0.4627 - val_acc: 0.9028\n",
            "Epoch 197/200\n",
            "850/850 [==============================] - 0s 41us/step - loss: 0.5283 - acc: 0.8894 - val_loss: 0.4617 - val_acc: 0.9028\n",
            "Epoch 198/200\n",
            "850/850 [==============================] - 0s 40us/step - loss: 0.5264 - acc: 0.8918 - val_loss: 0.4602 - val_acc: 0.9028\n",
            "Epoch 199/200\n",
            "850/850 [==============================] - 0s 36us/step - loss: 0.5243 - acc: 0.8965 - val_loss: 0.4569 - val_acc: 0.9028\n",
            "Epoch 200/200\n",
            "850/850 [==============================] - 0s 37us/step - loss: 0.5223 - acc: 0.8941 - val_loss: 0.4553 - val_acc: 0.9028\n"
          ],
          "name": "stdout"
        },
        {
          "output_type": "execute_result",
          "data": {
            "text/plain": [
              "<keras.callbacks.History at 0x7f55cced7c50>"
            ]
          },
          "metadata": {
            "tags": []
          },
          "execution_count": 25
        }
      ]
    },
    {
      "cell_type": "code",
      "metadata": {
        "id": "oPotgsk8lww9",
        "colab_type": "code",
        "colab": {}
      },
      "source": [
        ""
      ],
      "execution_count": 0,
      "outputs": []
    }
  ]
}